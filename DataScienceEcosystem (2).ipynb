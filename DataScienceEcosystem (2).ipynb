{
 "cells": [
  {
   "cell_type": "markdown",
   "id": "0a6c087f",
   "metadata": {},
   "source": [
    "# Data Science Tools and Ecosystem"
   ]
  },
  {
   "cell_type": "markdown",
   "id": "8bd5a69b",
   "metadata": {},
   "source": [
    "## In this notebook, Data Science Tools and Ecosystem are summarised"
   ]
  },
  {
   "cell_type": "markdown",
   "id": "de44940e",
   "metadata": {},
   "source": [
    "## Some of the popular languages that Data Scientists are use:\n",
    "\n",
    "1. Python\n",
    "\n",
    "2. R\n",
    "\n",
    "3. SQL "
   ]
  },
  {
   "cell_type": "markdown",
   "id": "f8c96677",
   "metadata": {},
   "source": [
    "## Some of the commonly used libraries used by Data Scientists include:\n",
    "\n",
    "1. NumPy\n",
    "\n",
    "2. Matplotlib\n",
    "\n",
    "3. Pandas\n",
    "\n",
    "4. Scikit-Learn\n"
   ]
  },
  {
   "cell_type": "markdown",
   "id": "ee9abe62",
   "metadata": {},
   "source": [
    "| Data Science Tools |\n",
    "| ------------------ |\n",
    "| RStudio |\n",
    "| Apache Spark |\n",
    "| TensorFlow |"
   ]
  },
  {
   "cell_type": "markdown",
   "id": "d09cc015",
   "metadata": {},
   "source": [
    "### Below are a few examples of evaluating arithmetic expressions in Python"
   ]
  },
  {
   "cell_type": "markdown",
   "id": "b4e30e2c",
   "metadata": {},
   "source": [
    "This is a simple arithmetic expression to multiply then add integers"
   ]
  },
  {
   "cell_type": "code",
   "execution_count": 5,
   "id": "53bc9790",
   "metadata": {},
   "outputs": [
    {
     "data": {
      "text/plain": [
       "17"
      ]
     },
     "execution_count": 5,
     "metadata": {},
     "output_type": "execute_result"
    }
   ],
   "source": [
    "(3*4)+5"
   ]
  },
  {
   "cell_type": "markdown",
   "id": "ffe24863",
   "metadata": {},
   "source": [
    "This will convert 200 minutes to hours by dividing 200 by 60"
   ]
  },
  {
   "cell_type": "code",
   "execution_count": 6,
   "id": "3abeec0e",
   "metadata": {},
   "outputs": [
    {
     "data": {
      "text/plain": [
       "3.3333333333333335"
      ]
     },
     "execution_count": 6,
     "metadata": {},
     "output_type": "execute_result"
    }
   ],
   "source": [
    "200/60"
   ]
  },
  {
   "cell_type": "markdown",
   "id": "0eb60e4c",
   "metadata": {},
   "source": [
    "### __Objectives__\n",
    "\n",
    "+ Popular languages that Data Scientist use\n",
    "+ Commonly used libraries used by Data Scientist\n",
    "+ Data Science Tools\n",
    "+ Example of an arthimetic expression to multiply then add integers\n",
    "+ Another example of converting minutes to hours\n",
    "\n"
   ]
  },
  {
   "cell_type": "markdown",
   "id": "7caf7c65",
   "metadata": {},
   "source": [
    "## Author\n",
    "Prince"
   ]
  },
  {
   "cell_type": "code",
   "execution_count": null,
   "id": "723adf72",
   "metadata": {},
   "outputs": [],
   "source": []
  }
 ],
 "metadata": {
  "kernelspec": {
   "display_name": "Python 3 (ipykernel)",
   "language": "python",
   "name": "python3"
  },
  "language_info": {
   "codemirror_mode": {
    "name": "ipython",
    "version": 3
   },
   "file_extension": ".py",
   "mimetype": "text/x-python",
   "name": "python",
   "nbconvert_exporter": "python",
   "pygments_lexer": "ipython3",
   "version": "3.11.5"
  }
 },
 "nbformat": 4,
 "nbformat_minor": 5
}
