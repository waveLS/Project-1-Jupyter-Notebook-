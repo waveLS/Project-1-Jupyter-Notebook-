{
 "cells": [
  {
   "cell_type": "markdown",
   "id": "e17632ef",
   "metadata": {},
   "source": [
    "# __Data Science Tools and Ecosystem__"
   ]
  },
  {
   "cell_type": "markdown",
   "id": "f721af6f",
   "metadata": {},
   "source": [
    "# __In this notebook, Data Science Tools and Ecosystem are summarised__"
   ]
  },
  {
   "cell_type": "markdown",
   "id": "b737bca5",
   "metadata": {},
   "source": [
    "# __Some of the popular languages that Data Scientists are use:__\n",
    "\n",
    "### __1. Python__\n",
    "\n",
    "### __2. R__\n",
    "\n",
    "### __3. SQL__ "
   ]
  },
  {
   "cell_type": "markdown",
   "id": "69cd4ce9",
   "metadata": {},
   "source": [
    "# __Some of the commonly used libraries used by Data Scientists include:__\n",
    "\n",
    "### __1. NumPy__\n",
    "\n",
    "### __2. Matplotlib__\n",
    "\n",
    "### __3. Pandas__\n",
    "\n",
    "### __4. Scikit-Learn__\n"
   ]
  },
  {
   "cell_type": "markdown",
   "id": "308cdb37",
   "metadata": {},
   "source": [
    "| __Data Science Tools__ |\n",
    "| ------------------ |\n",
    "| ___RStudio___ |\n",
    "| ___Apache Spark___ |\n",
    "| ___TensorFlow___ |"
   ]
  },
  {
   "cell_type": "markdown",
   "id": "1405100b",
   "metadata": {},
   "source": [
    "### __Below are a few examples of evaluating arithmetic expressions in Python__"
   ]
  },
  {
   "cell_type": "code",
   "execution_count": 15,
   "id": "df9e482d",
   "metadata": {},
   "outputs": [
    {
     "data": {
      "text/plain": [
       "17"
      ]
     },
     "execution_count": 15,
     "metadata": {},
     "output_type": "execute_result"
    }
   ],
   "source": [
    "#This is a simple arithmetic expression to multiply then add integers\n",
    "\n",
    "(3*4)+5"
   ]
  },
  {
   "cell_type": "code",
   "execution_count": 16,
   "id": "0fcb7f48",
   "metadata": {},
   "outputs": [
    {
     "data": {
      "text/plain": [
       "3.3333333333333335"
      ]
     },
     "execution_count": 16,
     "metadata": {},
     "output_type": "execute_result"
    }
   ],
   "source": [
    "# This will convert 200 minutes to hours by dividing 200 by 60\n",
    "\n",
    "200/60"
   ]
  },
  {
   "cell_type": "markdown",
   "id": "eec8319e",
   "metadata": {},
   "source": [
    "### __Objectives__\n",
    "\n",
    "+ Popular languages that Data Scientist use\n",
    "+ Commonly used libraries used by Data Scientist\n",
    "+ Data Science Tools\n",
    "+ Example of an arthimetic expression to multiply then add integers\n",
    "+ Another example of converting minutes to hours\n"
   ]
  },
  {
   "cell_type": "markdown",
   "id": "7942c95e",
   "metadata": {},
   "source": [
    "## Author\n",
    "Prince"
   ]
  },
  {
   "cell_type": "code",
   "execution_count": null,
   "id": "d53ad401",
   "metadata": {},
   "outputs": [],
   "source": []
  }
 ],
 "metadata": {
  "kernelspec": {
   "display_name": "Python 3 (ipykernel)",
   "language": "python",
   "name": "python3"
  },
  "language_info": {
   "codemirror_mode": {
    "name": "ipython",
    "version": 3
   },
   "file_extension": ".py",
   "mimetype": "text/x-python",
   "name": "python",
   "nbconvert_exporter": "python",
   "pygments_lexer": "ipython3",
   "version": "3.11.5"
  }
 },
 "nbformat": 4,
 "nbformat_minor": 5
}
